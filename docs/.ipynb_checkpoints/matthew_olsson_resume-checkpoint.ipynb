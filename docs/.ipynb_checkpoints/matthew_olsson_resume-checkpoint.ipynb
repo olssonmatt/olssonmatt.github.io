{
 "cells": [
  {
   "cell_type": "markdown",
   "id": "ad4e2396",
   "metadata": {},
   "source": [
    "# Matthew Olsson \n",
    "(289) 968-5596 | mattolsson9@gmail.com | St. Catharines, Ontario  | [Website](https://olssonmatt.github.io) | [LinkedIn](https://ca.linkedin.com/in/olssonmatt)\n",
    "\n",
    "***\n",
    "## Experience\n",
    "***Canadian Tire Bank***, *Late Stage Credit Risk Analyst*<br>\n",
    "*May 2022 - Present, Oakville (Hybrid)* <br>\n",
    " - Conducted in-depth analysis of key collections strategy areas, identifying opportunities for ehnancements of performance indicators and implement strategy effectiveness.\n",
    " - Developed comprehensive reporting the on the strategies, driving actionable insights. Supported ad hoc analsyses to support vraious stakeholders.\n",
    " - Ensured integrity and quality of numerous table data from external and internal sources.\n",
    " - Collaborated on digital collections initiatices across SMS, email, and IVR channels in addition to reporting on operational statistics and champion/challenger testing.<br>\n",
    "\n",
    "***The Violin Group***, *Project Manager* <br>\n",
    "*August 2021 - May 2022, St. Catharines* <br>\n",
    " - Seamlessly managed a project across 100 Bell telecommunication sites, overseeing a team of 5 employees.\n",
    " - Monitored each site simultaneously, coordinating activities among 4 parties and generating reports.\n",
    " - Achieved a 33% increase in completion rate and optimized site completion time since joining.\n",
    " - Contributed to Ontario’s LMRN project through Bell Mobility, involving surveying, compiling survey data, and designing project plans across 150 sites.<br>\n",
    " \n",
    "***Brock University***, *Undergraduate Research Assistant* <br>\n",
    "*September 2020 - June 2021, St. Catharines*<br>\n",
    " - Collaborated with two professors on an undergraduate thesis titled, Using Monte Carlo Simulation to Mimic Cosmic Radiation Damage.\n",
    " - Aimed to investigate tissue reactions to prolonged exposure to increased radiation during spaceflight.\n",
    " - Contributions focused on simulating cosmic radiation damage experienced by astronauts in space.\n",
    " - Generated a particle phase-space and directed particles onto mice and various materials for testing.\n",
    " \n",
    "***\n",
    "## Education\n",
    "***Brock University, St. Catharines*** <br>\n",
    "BSc. (Honours) Majors in Physics and Mathematics <br>\n",
    "***\n",
    "\n",
    "## Skills\n",
    "***Technical Skills:*** Programming (SQL, Python, SAS), data visualizations (Tableau, Excel), mathematics, statistical analysis, risk management <br>\n",
    "***Soft Skills:*** Research, problem solving, communication, creativity, team leading <br>\n",
    "***Certifications:*** Data Analytics Professional (Google), SAS Programming 1 & 2 <br>"
   ]
  },
  {
   "cell_type": "code",
   "execution_count": null,
   "id": "c6bcb0fe",
   "metadata": {},
   "outputs": [],
   "source": []
  }
 ],
 "metadata": {
  "kernelspec": {
   "display_name": "Python 3 (ipykernel)",
   "language": "python",
   "name": "python3"
  },
  "language_info": {
   "codemirror_mode": {
    "name": "ipython",
    "version": 3
   },
   "file_extension": ".py",
   "mimetype": "text/x-python",
   "name": "python",
   "nbconvert_exporter": "python",
   "pygments_lexer": "ipython3",
   "version": "3.9.7"
  }
 },
 "nbformat": 4,
 "nbformat_minor": 5
}
