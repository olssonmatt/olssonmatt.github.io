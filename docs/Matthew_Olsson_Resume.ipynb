{
 "cells": [
  {
   "cell_type": "markdown",
   "id": "ad4e2396",
   "metadata": {},
   "source": [
    "# Matthew Olsson \n",
    "(289) 968-5596 | mattolsson9@gmail.com | St. Catharines, Ontario  | [Website](https://olssonmatt.github.io) | [LinkedIn](https://ca.linkedin.com/in/olssonmatt)\n",
    "\n",
    "***\n",
    "## Experience\n",
    "***Canadian Tire Bank***, *Late Stage Credit Risk Analyst*<br>\n",
    "*May 2022 - Present, Oakville (Hybrid)* <br>\n",
    "\n",
    "Improved the monitoring and reporting of a variety of credit risk collections dashboards by introducing automation. Creation of a report that dealt with the comparitive testing of the collections text messaging system. Conducted analyses in the texting platform to observe response times and rates as well as identifying customers that have a high propensity to other digital channels. Executed an analysis in which highlighted customers that would be vulnerable to an APR increase by policy decisions and customer history data. SAS and SQL used for programming, Excel and Tableau used for data visualization throughout the work.\n",
    "\n",
    "***The Violin Group***, *Project Manager* <br>\n",
    "*August 2021 - May 2022, St. Catharines* <br>\n",
    "\n",
    "Seamlessly placed into a project that spanned across 100 Bell telecommunication sites and managed a team of 5 employees. Responsible for monitoring each site simultaneously, coordinating the 4 parties involved, and generating reports. Since joining, there was a 33% increase in completion rate and site completion time was optimized. Involved in Ontario’s LMRN project through Bell Mobility which dealt with surveying, compiling survey data, and designing project plans across 150 sites. \n",
    " \n",
    "***Brock University***, *Undergraduate Research Assistant* <br>\n",
    "*September 2020 - June 2021, St. Catharines*<br>\n",
    "\n",
    "Collaborated with two professors for an undergraduate thesis titled, *Using Monte Carlo Simulation to Mimic Cosmic Radiation Damage*. The goal was to see how tissues react to increased and long-term bouts of radiation through spaceflight. Contributions made sought to mimic this cosmic radiation damage an astronaut would experience in space. Done by generating a particle phase-space and sending the particles incident on mice and different materials to be tested. Simulations were completed using Geant4 with analysis and data visualization carried out in Python.\n",
    "***\n",
    "\n",
    "## Education\n",
    "***Brock University***, *BSc. (Honours)* <br>\n",
    "*September 2016 - June 2021, St. Catharines* <br>\n",
    "Majored in Physics and Mathematics\n",
    "***\n",
    "\n",
    "## Skills\n",
    "***Technical Skills:*** SQL (Oracle), Python (NumPy, Pandas), SAS, Git, Tableau, Microsoft Office, Linux <br>\n",
    "***Soft Skills:*** Research, problem solving, communication, reading comprehension, team leading <br>\n",
    "***Certifications:*** Data Analytics Professional (Google), SAS Programming 1 & 2 <br>"
   ]
  },
  {
   "cell_type": "code",
   "execution_count": null,
   "id": "c6bcb0fe",
   "metadata": {},
   "outputs": [],
   "source": []
  }
 ],
 "metadata": {
  "kernelspec": {
   "display_name": "Python 3 (ipykernel)",
   "language": "python",
   "name": "python3"
  },
  "language_info": {
   "codemirror_mode": {
    "name": "ipython",
    "version": 3
   },
   "file_extension": ".py",
   "mimetype": "text/x-python",
   "name": "python",
   "nbconvert_exporter": "python",
   "pygments_lexer": "ipython3",
   "version": "3.9.13"
  }
 },
 "nbformat": 4,
 "nbformat_minor": 5
}
