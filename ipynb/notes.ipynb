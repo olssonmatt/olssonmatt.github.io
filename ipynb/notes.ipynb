{
 "cells": [
  {
   "cell_type": "markdown",
   "id": "01429849",
   "metadata": {},
   "source": [
    "# notes\n",
    "*** \n",
    "### __[home](https://olssonmatt.github.io/)__ / __[portfolio](https://olssonmatt.github.io/portfolio.html)__  / __[notes](https://olssonmatt.github.io/notes.html)__  / __[contact](https://olssonmatt.github.io/contact.html)__ \n",
    "***\n",
    "my notes taken on various topics, they are not complete but using spare time to fill in the gaps for what I have\n",
    "\n",
    "*disclaimer: personal use*\n",
    "\n",
    "__[physics](https://olssonmatt.github.io/notes/phys_notes.html)__\n",
    "\n",
    "__[math](https://olssonmatt.github.io/notes/math_notes.html)__\n",
    "\n",
    "__[artificial intelligence](https://olssonmatt.github.io/notes/ai_notes.html)__\n",
    "\n",
    "__[economics](https://olssonmatt.github.io/notes/econ_notes.html)__\n"
   ]
  },
  {
   "cell_type": "code",
   "execution_count": null,
   "id": "d3dafd0e",
   "metadata": {},
   "outputs": [],
   "source": []
  }
 ],
 "metadata": {
  "kernelspec": {
   "display_name": "Python 3 (ipykernel)",
   "language": "python",
   "name": "python3"
  },
  "language_info": {
   "codemirror_mode": {
    "name": "ipython",
    "version": 3
   },
   "file_extension": ".py",
   "mimetype": "text/x-python",
   "name": "python",
   "nbconvert_exporter": "python",
   "pygments_lexer": "ipython3",
   "version": "3.9.7"
  }
 },
 "nbformat": 4,
 "nbformat_minor": 5
}
