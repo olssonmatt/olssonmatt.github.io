{
 "cells": [
  {
   "cell_type": "markdown",
   "id": "4f6f242e",
   "metadata": {},
   "source": [
    "# ai notes\n",
    "*** \n",
    "### __[home](https://olssonmatt.github.io/)__ / __[portfolio](https://olssonmatt.github.io/portfolio.html)__  / __[notes](https://olssonmatt.github.io/notes.html)__  / __[contact](https://olssonmatt.github.io/contact.html)__ \n",
    "***\n",
    "\n",
    "__[python for data science and ai](https://olssonmatt.github.io/notes/ai/python_ds_ai.html)__: types, expressions, variables, strings, lists, tuples, dictionaries, sets, conditions, loops, functions, exception handling, objects, classes, pandas, numpy, APIs, REST APIs, webscraping./\n"
   ]
  },
  {
   "cell_type": "code",
   "execution_count": null,
   "id": "a417f2ae",
   "metadata": {},
   "outputs": [],
   "source": []
  }
 ],
 "metadata": {
  "kernelspec": {
   "display_name": "Python 3 (ipykernel)",
   "language": "python",
   "name": "python3"
  },
  "language_info": {
   "codemirror_mode": {
    "name": "ipython",
    "version": 3
   },
   "file_extension": ".py",
   "mimetype": "text/x-python",
   "name": "python",
   "nbconvert_exporter": "python",
   "pygments_lexer": "ipython3",
   "version": "3.9.7"
  }
 },
 "nbformat": 4,
 "nbformat_minor": 5
}
