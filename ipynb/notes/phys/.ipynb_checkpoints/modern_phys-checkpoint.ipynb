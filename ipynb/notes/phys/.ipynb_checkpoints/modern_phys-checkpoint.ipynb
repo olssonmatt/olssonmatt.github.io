{
 "cells": [
  {
   "cell_type": "markdown",
   "id": "2d8fd60b",
   "metadata": {},
   "source": [
    "# modern physics\n",
    "*** \n",
    "### __[home](https://olssonmatt.github.io/)__ / __[portfolio](https://olssonmatt.github.io/portfolio.html)__  / __[notes](https://olssonmatt.github.io/notes.html)__  / __[contact](https://olssonmatt.github.io/contact.html)__ \n",
    "***\n",
    " - intro\n",
    " - special relativity\n",
    " - particles and waves\n",
    " - interference and diffraction\n",
    " - quantum mechanics\n",
    "***"
   ]
  },
  {
   "cell_type": "markdown",
   "id": "b687f206",
   "metadata": {},
   "source": [
    "***\n",
    "# intro\n",
    "\n",
    "***"
   ]
  },
  {
   "cell_type": "markdown",
   "id": "18d40804",
   "metadata": {},
   "source": [
    "***\n",
    "# special relativity\n",
    "\n",
    "***"
   ]
  },
  {
   "cell_type": "markdown",
   "id": "552e17ca",
   "metadata": {},
   "source": [
    "***\n",
    "# particles and waves\n",
    "\n",
    "***"
   ]
  },
  {
   "cell_type": "markdown",
   "id": "5c0a94d5",
   "metadata": {},
   "source": [
    "***\n",
    "# interference and diffraction\n",
    "\n",
    "***"
   ]
  },
  {
   "cell_type": "markdown",
   "id": "e6a1904d",
   "metadata": {},
   "source": [
    "***\n",
    "# quantum mechanics\n",
    "\n",
    "***"
   ]
  },
  {
   "cell_type": "code",
   "execution_count": null,
   "id": "334d9b00",
   "metadata": {},
   "outputs": [],
   "source": []
  }
 ],
 "metadata": {
  "kernelspec": {
   "display_name": "Python 3 (ipykernel)",
   "language": "python",
   "name": "python3"
  },
  "language_info": {
   "codemirror_mode": {
    "name": "ipython",
    "version": 3
   },
   "file_extension": ".py",
   "mimetype": "text/x-python",
   "name": "python",
   "nbconvert_exporter": "python",
   "pygments_lexer": "ipython3",
   "version": "3.9.7"
  }
 },
 "nbformat": 4,
 "nbformat_minor": 5
}
