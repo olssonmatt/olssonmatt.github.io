{
 "cells": [
  {
   "cell_type": "markdown",
   "id": "2d8fd60b",
   "metadata": {},
   "source": [
    "# nuclear physics\n",
    "*** \n",
    "### __[home](https://olssonmatt.github.io/)__ / __[portfolio](https://olssonmatt.github.io/portfolio.html)__  / __[notes](https://olssonmatt.github.io/notes.html)__  / __[contact](https://olssonmatt.github.io/contact.html)__ \n",
    "***\n",
    " - intrinsic properties of nuclei\n",
    " - nuclear binding energy\n",
    " - qualitative treatment of shell model\n",
    " - $\\alpha$, $\\beta$, and $\\gamma$ radioactivities\n",
    " - nuclear fission\n",
    " - characteristics of nuclear reactions\n",
    "***"
   ]
  },
  {
   "cell_type": "markdown",
   "id": "92916e1f",
   "metadata": {},
   "source": [
    "***\n",
    "# intrinsic properties of nuclei\n",
    "\n",
    "***"
   ]
  },
  {
   "cell_type": "markdown",
   "id": "8d6a8813",
   "metadata": {},
   "source": [
    "***\n",
    "# nuclear binding energy\n",
    "\n",
    "***"
   ]
  },
  {
   "cell_type": "markdown",
   "id": "8259833f",
   "metadata": {},
   "source": [
    "***\n",
    "# qualitative treatment of shell model\n",
    "\n",
    "***"
   ]
  },
  {
   "cell_type": "markdown",
   "id": "41d39f98",
   "metadata": {},
   "source": [
    "***\n",
    "# $\\alpha$, $\\beta$, and $\\gamma$ radioactivities\n",
    "\n",
    "***"
   ]
  },
  {
   "cell_type": "markdown",
   "id": "45794694",
   "metadata": {},
   "source": [
    "***\n",
    "# nuclear fission\n",
    "\n",
    "***"
   ]
  },
  {
   "cell_type": "markdown",
   "id": "6acd5085",
   "metadata": {},
   "source": [
    "***\n",
    "# characteristics of nuclear reactions\n",
    "\n",
    "***"
   ]
  },
  {
   "cell_type": "code",
   "execution_count": null,
   "id": "eef9e13e",
   "metadata": {},
   "outputs": [],
   "source": []
  }
 ],
 "metadata": {
  "kernelspec": {
   "display_name": "Python 3 (ipykernel)",
   "language": "python",
   "name": "python3"
  },
  "language_info": {
   "codemirror_mode": {
    "name": "ipython",
    "version": 3
   },
   "file_extension": ".py",
   "mimetype": "text/x-python",
   "name": "python",
   "nbconvert_exporter": "python",
   "pygments_lexer": "ipython3",
   "version": "3.9.7"
  }
 },
 "nbformat": 4,
 "nbformat_minor": 5
}
