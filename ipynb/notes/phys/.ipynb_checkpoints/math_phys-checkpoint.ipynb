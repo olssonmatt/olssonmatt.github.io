{
 "cells": [
  {
   "cell_type": "markdown",
   "id": "2d8fd60b",
   "metadata": {},
   "source": [
    "# mathematical physics\n",
    "*** \n",
    "### __[home](https://olssonmatt.github.io/)__ / __[portfolio](https://olssonmatt.github.io/portfolio.html)__  / __[notes](https://olssonmatt.github.io/notes.html)__  / __[contact](https://olssonmatt.github.io/contact.html)__ \n",
    "***\n",
    " - calculus of variations\n",
    " - least action principle in physics\n",
    " - symmetries and conservation laws\n",
    " - differential-geometric structures\n",
    " - applications to physics: electro-magnetic field as a one-form\n",
    " - gravity as a pseudo-Riemannian metric \n",
    " - introduction to mathematical ideas of quantum mechanics\n",
    "***"
   ]
  },
  {
   "cell_type": "markdown",
   "id": "bb003ea1",
   "metadata": {},
   "source": [
    "***\n",
    "# calculus of variations\n",
    "\n",
    "***"
   ]
  },
  {
   "cell_type": "markdown",
   "id": "c2873682",
   "metadata": {},
   "source": [
    "***\n",
    "# least action principle in physics\n",
    "\n",
    "***"
   ]
  },
  {
   "cell_type": "markdown",
   "id": "c5d3eb28",
   "metadata": {},
   "source": [
    "***\n",
    "# symmetries and conservation laws\n",
    "\n",
    "***"
   ]
  },
  {
   "cell_type": "markdown",
   "id": "c03e79b8",
   "metadata": {},
   "source": [
    "***\n",
    "# differential-geometric structures\n",
    "\n",
    "***"
   ]
  },
  {
   "cell_type": "markdown",
   "id": "a9901bb0",
   "metadata": {},
   "source": [
    "***\n",
    "# applications to physics: electro-magnetic field as a one-form\n",
    "\n",
    "***"
   ]
  },
  {
   "cell_type": "markdown",
   "id": "632135e2",
   "metadata": {},
   "source": [
    "***\n",
    "# gravity as a pseudo-Riemannian metric \n",
    "\n",
    "***"
   ]
  },
  {
   "cell_type": "markdown",
   "id": "4798057d",
   "metadata": {},
   "source": [
    "***\n",
    "# introduction to mathematical ideas of quantum mechanics\n",
    "\n",
    "***"
   ]
  },
  {
   "cell_type": "code",
   "execution_count": null,
   "id": "6c19c8b9",
   "metadata": {},
   "outputs": [],
   "source": []
  }
 ],
 "metadata": {
  "kernelspec": {
   "display_name": "Python 3 (ipykernel)",
   "language": "python",
   "name": "python3"
  },
  "language_info": {
   "codemirror_mode": {
    "name": "ipython",
    "version": 3
   },
   "file_extension": ".py",
   "mimetype": "text/x-python",
   "name": "python",
   "nbconvert_exporter": "python",
   "pygments_lexer": "ipython3",
   "version": "3.9.7"
  }
 },
 "nbformat": 4,
 "nbformat_minor": 5
}
