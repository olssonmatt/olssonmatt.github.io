{
 "cells": [
  {
   "cell_type": "markdown",
   "id": "2d8fd60b",
   "metadata": {},
   "source": [
    "# optics\n",
    "*** \n",
    "### __[home](https://olssonmatt.github.io/)__ / __[portfolio](https://olssonmatt.github.io/portfolio.html)__  / __[notes](https://olssonmatt.github.io/notes.html)__  / __[contact](https://olssonmatt.github.io/contact.html)__ \n",
    "***\n",
    " - geometrical and wave optics\n",
    " - reflection, refraction, lenses\n",
    " - matrix methods, aberrations\n",
    " - gradient index phenomena including fibre optics\n",
    " - interference, coherence\n",
    " - holography\n",
    " - Fraunhofer and Fresnel diffraction\n",
    " - polarization\n",
    "***"
   ]
  },
  {
   "cell_type": "markdown",
   "id": "b687f206",
   "metadata": {},
   "source": [
    "***\n",
    "# reflection and refraction\n",
    "\n",
    "***"
   ]
  },
  {
   "cell_type": "markdown",
   "id": "8f57692e",
   "metadata": {},
   "source": [
    "***\n",
    "# lenses\n",
    "\n",
    "***"
   ]
  },
  {
   "cell_type": "code",
   "execution_count": null,
   "id": "20b7f118",
   "metadata": {},
   "outputs": [],
   "source": []
  }
 ],
 "metadata": {
  "kernelspec": {
   "display_name": "Python 3 (ipykernel)",
   "language": "python",
   "name": "python3"
  },
  "language_info": {
   "codemirror_mode": {
    "name": "ipython",
    "version": 3
   },
   "file_extension": ".py",
   "mimetype": "text/x-python",
   "name": "python",
   "nbconvert_exporter": "python",
   "pygments_lexer": "ipython3",
   "version": "3.9.7"
  }
 },
 "nbformat": 4,
 "nbformat_minor": 5
}
