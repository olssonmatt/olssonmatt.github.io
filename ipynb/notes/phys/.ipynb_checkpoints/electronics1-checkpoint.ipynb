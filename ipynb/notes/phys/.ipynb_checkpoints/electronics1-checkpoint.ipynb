{
 "cells": [
  {
   "cell_type": "markdown",
   "id": "2d8fd60b",
   "metadata": {},
   "source": [
    "# electronics 1\n",
    "*** \n",
    "### __[home](https://olssonmatt.github.io/)__ / __[portfolio](https://olssonmatt.github.io/portfolio.html)__  / __[notes](https://olssonmatt.github.io/notes.html)__  / __[contact](https://olssonmatt.github.io/contact.html)__ \n",
    "***\n",
    " - conduction in metals and semi-conductors\n",
    " - circuit analysis\n",
    " - time-dependent currents, transients, AC circuits, filters, resonance\n",
    " - semi-conductor junction, diode and transistor\n",
    " - rectification, switching and amplification\n",
    " - operational amplifiers\n",
    " - combinatorial logic and circuits\n",
    " - sequential circuits, counters\n",
    " - analog-to-digital conversion\n",
    "***"
   ]
  },
  {
   "cell_type": "markdown",
   "id": "b687f206",
   "metadata": {},
   "source": [
    "***\n",
    "# page\n",
    "\n",
    "***"
   ]
  },
  {
   "cell_type": "code",
   "execution_count": null,
   "id": "2cf5e9c5",
   "metadata": {},
   "outputs": [],
   "source": []
  }
 ],
 "metadata": {
  "kernelspec": {
   "display_name": "Python 3 (ipykernel)",
   "language": "python",
   "name": "python3"
  },
  "language_info": {
   "codemirror_mode": {
    "name": "ipython",
    "version": 3
   },
   "file_extension": ".py",
   "mimetype": "text/x-python",
   "name": "python",
   "nbconvert_exporter": "python",
   "pygments_lexer": "ipython3",
   "version": "3.9.7"
  }
 },
 "nbformat": 4,
 "nbformat_minor": 5
}
