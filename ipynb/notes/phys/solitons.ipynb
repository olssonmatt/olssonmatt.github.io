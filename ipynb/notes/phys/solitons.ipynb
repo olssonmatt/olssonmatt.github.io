{
 "cells": [
  {
   "cell_type": "markdown",
   "id": "2d8fd60b",
   "metadata": {},
   "source": [
    "# solitons and nonlinear wave equations\n",
    "*** \n",
    "### __[home](https://olssonmatt.github.io/)__ / __[portfolio](https://olssonmatt.github.io/portfolio.html)__  / __[notes](https://olssonmatt.github.io/notes.html)__  / __[contact](https://olssonmatt.github.io/contact.html)__ \n",
    "***\n",
    " - overview of solitons and linear/nonlinear waves\n",
    " - solitary wave solutions of nonlinear wave equations\n",
    " - Korteweg-de Vries equation and other soliton equations\n",
    " - Backlund transformations and nonlinear superposition\n",
    " - Lax pairs and inverse scattering\n",
    " - zero curvature representation and the dressing method\n",
    " - conservation laws of soliton equations\n",
    " - Hamiltonian formulation of wave equations, bi-Hamiltonian structure of soliton equations\n",
    " - Lagrangians and symmetries\n",
    "***"
   ]
  },
  {
   "cell_type": "markdown",
   "id": "bb003ea1",
   "metadata": {},
   "source": [
    "***\n",
    "# overview of solitons and linear/nonlinear waves\n",
    "\n",
    "***"
   ]
  },
  {
   "cell_type": "markdown",
   "id": "c2873682",
   "metadata": {},
   "source": [
    "***\n",
    "# solitary wave solutions of nonlinear wave equations\n",
    "\n",
    "***"
   ]
  },
  {
   "cell_type": "markdown",
   "id": "c5d3eb28",
   "metadata": {},
   "source": [
    "***\n",
    "# Korteweg-de Vries equation and other soliton equations\n",
    "\n",
    "***"
   ]
  },
  {
   "cell_type": "markdown",
   "id": "c03e79b8",
   "metadata": {},
   "source": [
    "***\n",
    "# Backlund transformations and nonlinear superposition\n",
    "\n",
    "***"
   ]
  },
  {
   "cell_type": "markdown",
   "id": "a9901bb0",
   "metadata": {},
   "source": [
    "***\n",
    "# Lax pairs and inverse scattering\n",
    "\n",
    "***"
   ]
  },
  {
   "cell_type": "markdown",
   "id": "632135e2",
   "metadata": {},
   "source": [
    "***\n",
    "# zero curvature representation and the dressing method\n",
    "\n",
    "***"
   ]
  },
  {
   "cell_type": "markdown",
   "id": "4798057d",
   "metadata": {},
   "source": [
    "***\n",
    "# conservation laws of soliton equations\n",
    "\n",
    "***"
   ]
  },
  {
   "cell_type": "markdown",
   "id": "a8911ab8",
   "metadata": {},
   "source": [
    "***\n",
    "# Hamiltonian formulation of wave equations, bi-Hamiltonian structure of soliton equations\n",
    "\n",
    "***"
   ]
  },
  {
   "cell_type": "markdown",
   "id": "92916e1f",
   "metadata": {},
   "source": [
    "***\n",
    "# Lagrangians and symmetries\n",
    "\n",
    "***"
   ]
  },
  {
   "cell_type": "code",
   "execution_count": null,
   "id": "3bc37e0a",
   "metadata": {},
   "outputs": [],
   "source": []
  }
 ],
 "metadata": {
  "kernelspec": {
   "display_name": "Python 3 (ipykernel)",
   "language": "python",
   "name": "python3"
  },
  "language_info": {
   "codemirror_mode": {
    "name": "ipython",
    "version": 3
   },
   "file_extension": ".py",
   "mimetype": "text/x-python",
   "name": "python",
   "nbconvert_exporter": "python",
   "pygments_lexer": "ipython3",
   "version": "3.9.7"
  }
 },
 "nbformat": 4,
 "nbformat_minor": 5
}
