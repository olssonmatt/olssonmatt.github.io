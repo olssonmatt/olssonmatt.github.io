{
 "cells": [
  {
   "cell_type": "markdown",
   "id": "2d8fd60b",
   "metadata": {},
   "source": [
    "# electromagnetism 1\n",
    "*** \n",
    "### __[home](https://olssonmatt.github.io/)__ / __[portfolio](https://olssonmatt.github.io/portfolio.html)__  / __[notes](https://olssonmatt.github.io/notes.html)__  / __[contact](https://olssonmatt.github.io/contact.html)__ \n",
    "***\n",
    " - vectors\n",
    " - maxwell's equations in electrostatics\n",
    " - electrostatics\n",
    " - Fourier series and Legendre polynomials\n",
    " - multipole expansions\n",
    " - materials\n",
    "***"
   ]
  },
  {
   "cell_type": "markdown",
   "id": "8f57692e",
   "metadata": {},
   "source": [
    "***\n",
    "# vectors\n",
    "\n",
    "***"
   ]
  },
  {
   "cell_type": "markdown",
   "id": "763b3b1b",
   "metadata": {},
   "source": [
    "***\n",
    "# maxwell's equations in electrostatics\n",
    "\n",
    "***"
   ]
  },
  {
   "cell_type": "markdown",
   "id": "8a03bf7a",
   "metadata": {},
   "source": [
    "***\n",
    "# electrostatics\n",
    "\n",
    "***"
   ]
  },
  {
   "cell_type": "markdown",
   "id": "61d1d9d4",
   "metadata": {},
   "source": [
    "***\n",
    "# Fourier series and Legendre polynomials\n",
    "\n",
    "***"
   ]
  },
  {
   "cell_type": "markdown",
   "id": "bea845a2",
   "metadata": {},
   "source": [
    "***\n",
    "# multipole expansions\n",
    "\n",
    "***"
   ]
  },
  {
   "cell_type": "markdown",
   "id": "1ed28c7b",
   "metadata": {},
   "source": [
    "***\n",
    "# materials\n",
    "\n",
    "***"
   ]
  },
  {
   "cell_type": "code",
   "execution_count": null,
   "id": "315e1e8a",
   "metadata": {},
   "outputs": [],
   "source": []
  }
 ],
 "metadata": {
  "kernelspec": {
   "display_name": "Python 3 (ipykernel)",
   "language": "python",
   "name": "python3"
  },
  "language_info": {
   "codemirror_mode": {
    "name": "ipython",
    "version": 3
   },
   "file_extension": ".py",
   "mimetype": "text/x-python",
   "name": "python",
   "nbconvert_exporter": "python",
   "pygments_lexer": "ipython3",
   "version": "3.9.7"
  }
 },
 "nbformat": 4,
 "nbformat_minor": 5
}
