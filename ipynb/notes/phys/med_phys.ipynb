{
 "cells": [
  {
   "cell_type": "markdown",
   "id": "2d8fd60b",
   "metadata": {},
   "source": [
    "# medical physics\n",
    "*** \n",
    "### __[home](https://olssonmatt.github.io/)__ / __[portfolio](https://olssonmatt.github.io/portfolio.html)__  / __[notes](https://olssonmatt.github.io/notes.html)__  / __[contact](https://olssonmatt.github.io/contact.html)__ \n",
    "***\n",
    " - electromagentism\n",
    " - atoms, radiation, and matter\n",
    " - x-rays\n",
    " - nuclear medicine and imaging\n",
    " - nmr and mri\n",
    " - ultrasound\n",
    "***"
   ]
  },
  {
   "cell_type": "markdown",
   "id": "958917c6",
   "metadata": {},
   "source": [
    "***\n",
    "# introductory\n",
    "\n",
    "### objectives\n",
    " - describe the basic characteristics of EM radiation\n",
    " - describe a basic model of atomic structure\n",
    " - show how atomic structure can create EM radiation\n",
    " - describe how EM radiation interacts with matter\n",
    " - from this foundation, understanding the different imaging techniques should follow\n",
    "\n",
    "### Nobel history of medical physics\n",
    " - Roentgen (1901, physics): discovery of “X-radiation”\n",
    " - Rabi (1944, physics): nuclear magnetic resonance (NMR) methodology\n",
    " - Block and Purcell (1952, physics): NMR precision measurements\n",
    " - Cormack and Hounsfield (1979, medicine): computed assisted tomography\n",
    " - Ernst (1991, chemistry): high-resolution NMR spectroscopy\n",
    " - Later and Mansfield (2003, medicine): invention of MRI\n",
    "\n",
    "### medical imaging\n",
    " - medical imaging requires some form of radiation capable of penetrating tissues\n",
    " - the radiation also need to interact with the body’s tissues in some differential manner to provide contrast\n",
    " - image quality reflects many trade-offs;\n",
    "      * Patient and medical personel safety: what levels of radiation are used? \n",
    "      * Spatial resolution: what’s the smallest thing that can be seen? \n",
    "      * Temporal resolution: can dynamic abnormalities be detected? \n",
    "      * Noise properties: is that a tumor or just a blur?\n",
    "      \n",
    "### systematic approach to medical imaging\n",
    " - | \n",
    "\n",
    "***"
   ]
  },
  {
   "cell_type": "markdown",
   "id": "07f62c9c",
   "metadata": {},
   "source": [
    "***\n",
    "# electromagnetism\n",
    "\n",
    "\n",
    "***"
   ]
  },
  {
   "cell_type": "markdown",
   "id": "22066cc4",
   "metadata": {},
   "source": [
    "***\n",
    "# atoms, radiation, and matter\n",
    "\n",
    "\n",
    "***"
   ]
  },
  {
   "cell_type": "markdown",
   "id": "e8f2ea89",
   "metadata": {},
   "source": [
    "***\n",
    "# x-rays\n",
    "\n",
    "\n",
    "***"
   ]
  },
  {
   "cell_type": "markdown",
   "id": "0c2ab293",
   "metadata": {},
   "source": [
    "***\n",
    "# nuclear medicine and imaging\n",
    "\n",
    "\n",
    "***"
   ]
  },
  {
   "cell_type": "markdown",
   "id": "61465293",
   "metadata": {},
   "source": [
    "***\n",
    "# nmr and mri\n",
    "\n",
    "***"
   ]
  },
  {
   "cell_type": "markdown",
   "id": "2b6e56d7",
   "metadata": {},
   "source": [
    "***\n",
    "# ultrasound\n",
    "\n",
    "***"
   ]
  },
  {
   "cell_type": "code",
   "execution_count": null,
   "id": "9018d92c",
   "metadata": {},
   "outputs": [],
   "source": []
  }
 ],
 "metadata": {
  "kernelspec": {
   "display_name": "Python 3 (ipykernel)",
   "language": "python",
   "name": "python3"
  },
  "language_info": {
   "codemirror_mode": {
    "name": "ipython",
    "version": 3
   },
   "file_extension": ".py",
   "mimetype": "text/x-python",
   "name": "python",
   "nbconvert_exporter": "python",
   "pygments_lexer": "ipython3",
   "version": "3.9.7"
  }
 },
 "nbformat": 4,
 "nbformat_minor": 5
}
