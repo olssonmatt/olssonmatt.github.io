{
 "cells": [
  {
   "cell_type": "markdown",
   "id": "2d8fd60b",
   "metadata": {},
   "source": [
    "# mechanics 1\n",
    "*** \n",
    "### __[home](https://olssonmatt.github.io/)__ / __[portfolio](https://olssonmatt.github.io/portfolio.html)__  / __[notes](https://olssonmatt.github.io/notes.html)__  / __[contact](https://olssonmatt.github.io/contact.html)__ \n",
    "***\n",
    " - vectors\n",
    " - kinematics\n",
    " - Newton's laws\n",
    " - momentum, work, and energy\n",
    " - simple harmonic oscillator\n",
    " - work, and energy in 3D\n",
    " - momentum\n",
    " - angular momentum\n",
    "***"
   ]
  },
  {
   "cell_type": "markdown",
   "id": "5ea6caa6",
   "metadata": {},
   "source": [
    "***\n",
    "# vectors\n",
    "\n",
    "\n",
    "***"
   ]
  },
  {
   "cell_type": "markdown",
   "id": "1801cef6",
   "metadata": {},
   "source": [
    "***\n",
    "# kinematics\n",
    "\n",
    "\n",
    "***"
   ]
  },
  {
   "cell_type": "markdown",
   "id": "33463ac0",
   "metadata": {},
   "source": [
    "***\n",
    "# Newton's law\n",
    "\n",
    "\n",
    "***"
   ]
  },
  {
   "cell_type": "markdown",
   "id": "30324a53",
   "metadata": {},
   "source": [
    "***\n",
    "# momentum, work, and energy\n",
    "\n",
    "***"
   ]
  },
  {
   "cell_type": "markdown",
   "id": "91097da1",
   "metadata": {},
   "source": [
    "***\n",
    "# simple harmonic oscillator\n",
    "\n",
    "***"
   ]
  },
  {
   "cell_type": "markdown",
   "id": "2ace9ea1",
   "metadata": {},
   "source": [
    "***\n",
    "# work, and energy in 3D\n",
    "\n",
    "***"
   ]
  },
  {
   "cell_type": "markdown",
   "id": "dc78ead0",
   "metadata": {},
   "source": [
    "***\n",
    "# momentum\n",
    "\n",
    "\n",
    "***"
   ]
  },
  {
   "cell_type": "markdown",
   "id": "b687f206",
   "metadata": {},
   "source": [
    "***\n",
    "# angular momentum\n",
    "\n",
    "***"
   ]
  },
  {
   "cell_type": "code",
   "execution_count": null,
   "id": "2cf5e9c5",
   "metadata": {},
   "outputs": [],
   "source": []
  }
 ],
 "metadata": {
  "kernelspec": {
   "display_name": "Python 3 (ipykernel)",
   "language": "python",
   "name": "python3"
  },
  "language_info": {
   "codemirror_mode": {
    "name": "ipython",
    "version": 3
   },
   "file_extension": ".py",
   "mimetype": "text/x-python",
   "name": "python",
   "nbconvert_exporter": "python",
   "pygments_lexer": "ipython3",
   "version": "3.9.7"
  }
 },
 "nbformat": 4,
 "nbformat_minor": 5
}
