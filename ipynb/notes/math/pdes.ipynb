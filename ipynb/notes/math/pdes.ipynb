{
 "cells": [
  {
   "cell_type": "markdown",
   "id": "0014dde6",
   "metadata": {},
   "source": [
    "# partial differential equations notes\n",
    "*** \n",
    "### __[home](https://olssonmatt.github.io/)__ / __[portfolio](https://olssonmatt.github.io/portfolio.html)__  / __[notes](https://olssonmatt.github.io/notes.html)__  / __[contact](https://olssonmatt.github.io/contact.html)__ \n",
    "***\n",
    " - review of ODEs\n",
    " - physical origin of partial differential equations\n",
    "     - mathematical models, conservation laws, diffusion, vibrations and acoustics, quantum mechanics, Laplace equation, classification of PDEs\n",
    " - partial differential equations on unbounded domain\n",
    "     - Cauchy problem for the heat equation, Cauchy problem for the wave equation, ill-posed problems, semi-indefinite domains, sources and Duhamel’s principle, Laplace transforms, Fourier transforms\n",
    " - orthogonal expansions\n",
    "    - Fourier method, orthogonal expansions, classical Fourier series, Sturm-Liouville problems\n",
    " - partial differential equations on bounded domains\n",
    "    - separation of variables, flux and radiation conditions, Laplace’s equation, cooling of a sphere, diffusion in a disk, sources on boundary domains, parameter identification problems, finite difference methods\n",
    "***"
   ]
  },
  {
   "cell_type": "markdown",
   "id": "fd33c0c6",
   "metadata": {},
   "source": [
    "***\n",
    "# unit\n",
    "\n",
    "### topic\n",
    " - point\n",
    "    - subpoint\n",
    "\n",
    "***"
   ]
  }
 ],
 "metadata": {
  "kernelspec": {
   "display_name": "Python 3 (ipykernel)",
   "language": "python",
   "name": "python3"
  },
  "language_info": {
   "codemirror_mode": {
    "name": "ipython",
    "version": 3
   },
   "file_extension": ".py",
   "mimetype": "text/x-python",
   "name": "python",
   "nbconvert_exporter": "python",
   "pygments_lexer": "ipython3",
   "version": "3.9.7"
  }
 },
 "nbformat": 4,
 "nbformat_minor": 5
}
