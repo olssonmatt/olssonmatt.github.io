{
 "cells": [
  {
   "cell_type": "markdown",
   "id": "0014dde6",
   "metadata": {},
   "source": [
    "# multivariable calculus notes\n",
    "*** \n",
    "### __[home](https://olssonmatt.github.io/)__ / __[portfolio](https://olssonmatt.github.io/portfolio.html)__  / __[notes](https://olssonmatt.github.io/notes.html)__  / __[contact](https://olssonmatt.github.io/contact.html)__ \n",
    "***\n",
    " - functions of sevaral variables\n",
    " - limits and continuity, partial derivatives\n",
    " - tangent planes, linear approximations, chain rule\n",
    " - directional derivatives and gradient, minimum and maximum values\n",
    " - Lagrange multipliers, double integrals over rectangles\n",
    " - double integrals in general regionsand in polar coordinates\n",
    " - applications of double integrals, surface area\n",
    " - triple integrals, triple integrals in cylindrical coordinates\n",
    " - triple integrals in sperical coordinates, change of variables in triple integrals\n",
    " - vector functions and space curves, derivatives and integrals of vector funtions, arc length, curvature\n",
    " - motion in space, vector fields\n",
    " - line integrals, the fundamental theorem of line integrals\n",
    "***"
   ]
  },
  {
   "cell_type": "markdown",
   "id": "fd33c0c6",
   "metadata": {},
   "source": [
    "***\n",
    "# unit\n",
    "\n",
    "### topic\n",
    " - point\n",
    "    - subpoint\n",
    "\n",
    "***"
   ]
  }
 ],
 "metadata": {
  "kernelspec": {
   "display_name": "Python 3 (ipykernel)",
   "language": "python",
   "name": "python3"
  },
  "language_info": {
   "codemirror_mode": {
    "name": "ipython",
    "version": 3
   },
   "file_extension": ".py",
   "mimetype": "text/x-python",
   "name": "python",
   "nbconvert_exporter": "python",
   "pygments_lexer": "ipython3",
   "version": "3.9.7"
  }
 },
 "nbformat": 4,
 "nbformat_minor": 5
}
