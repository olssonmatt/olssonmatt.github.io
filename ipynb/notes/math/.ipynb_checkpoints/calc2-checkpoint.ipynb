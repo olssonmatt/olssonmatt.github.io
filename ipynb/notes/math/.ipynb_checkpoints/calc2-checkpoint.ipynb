{
 "cells": [
  {
   "cell_type": "markdown",
   "id": "0014dde6",
   "metadata": {},
   "source": [
    "# calculus 2 notes\n",
    "*** \n",
    "### __[home](https://olssonmatt.github.io/)__ / __[portfolio](https://olssonmatt.github.io/portfolio.html)__  / __[notes](https://olssonmatt.github.io/notes.html)__  / __[contact](https://olssonmatt.github.io/contact.html)__ \n",
    "***\n",
    " - applications of integration\n",
    " - techniques of integration\n",
    "     - integration by parts\n",
    "     - trigonemetric integrals\n",
    "     - trigonemetric substitution\n",
    "     - partial fractions\n",
    "     - simpson's rule\n",
    "     - improper integrals\n",
    "     - arc length\n",
    " - further techniques and applications\n",
    " - differential equations\n",
    " - sequences\n",
    " - infinite series\n",
    " - power series and taylor series\n",
    "***"
   ]
  },
  {
   "cell_type": "markdown",
   "id": "fd33c0c6",
   "metadata": {},
   "source": [
    "***\n",
    "# unit\n",
    "\n",
    "### topic\n",
    " - point\n",
    "    - subpoint\n",
    "\n",
    "***"
   ]
  }
 ],
 "metadata": {
  "kernelspec": {
   "display_name": "Python 3 (ipykernel)",
   "language": "python",
   "name": "python3"
  },
  "language_info": {
   "codemirror_mode": {
    "name": "ipython",
    "version": 3
   },
   "file_extension": ".py",
   "mimetype": "text/x-python",
   "name": "python",
   "nbconvert_exporter": "python",
   "pygments_lexer": "ipython3",
   "version": "3.9.7"
  }
 },
 "nbformat": 4,
 "nbformat_minor": 5
}
