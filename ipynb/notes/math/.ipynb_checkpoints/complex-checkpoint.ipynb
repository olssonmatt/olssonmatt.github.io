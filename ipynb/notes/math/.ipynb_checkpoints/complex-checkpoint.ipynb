{
 "cells": [
  {
   "cell_type": "markdown",
   "id": "0014dde6",
   "metadata": {},
   "source": [
    "# complex analysis notes\n",
    "*** \n",
    "### __[home](https://olssonmatt.github.io/)__ / __[portfolio](https://olssonmatt.github.io/portfolio.html)__  / __[notes](https://olssonmatt.github.io/notes.html)__  / __[contact](https://olssonmatt.github.io/contact.html)__ \n",
    "***\n",
    " - algebra and geometry of complex numbers,\n",
    " - complex functions and their derivatives\n",
    " - analytic functions\n",
    " - harmonic functions\n",
    " - complex exponential and trigonometric functions and their inverses\n",
    " - contour integration\n",
    " - Cauchy's theorem and its consequences\n",
    " - Taylor and Laurent series\n",
    " - residue\n",
    "***"
   ]
  },
  {
   "cell_type": "markdown",
   "id": "fd33c0c6",
   "metadata": {},
   "source": [
    "***\n",
    "# unit\n",
    "\n",
    "### topic\n",
    " - point\n",
    "    - subpoint\n",
    "\n",
    "***"
   ]
  }
 ],
 "metadata": {
  "kernelspec": {
   "display_name": "Python 3 (ipykernel)",
   "language": "python",
   "name": "python3"
  },
  "language_info": {
   "codemirror_mode": {
    "name": "ipython",
    "version": 3
   },
   "file_extension": ".py",
   "mimetype": "text/x-python",
   "name": "python",
   "nbconvert_exporter": "python",
   "pygments_lexer": "ipython3",
   "version": "3.9.7"
  }
 },
 "nbformat": 4,
 "nbformat_minor": 5
}
