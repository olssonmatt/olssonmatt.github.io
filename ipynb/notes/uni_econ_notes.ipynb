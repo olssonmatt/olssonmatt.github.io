{
 "cells": [
  {
   "cell_type": "markdown",
   "id": "4f6f242e",
   "metadata": {},
   "source": [
    "# economics notes\n",
    "*** \n",
    "### __[home](https://olssonmatt.github.io/)__ / __[portfolio](https://olssonmatt.github.io/portfolio.html)__  / __[notes](https://olssonmatt.github.io/notes.html)__  / __[contact](https://olssonmatt.github.io/contact.html)__ \n",
    "***\n",
    "\n",
    "__[microeconomincs 1](https://olssonmatt.github.io/notes/econ/micro1.html)__: nature of economics, price system, demand, production, etc.\n",
    "\n",
    "__[macroeconomincs 1](https://olssonmatt.github.io/notes/econ/macro1.html)__: nature of economics, determination, control of national income, banking, etc.\n",
    "\n",
    "__[microeconomincs 2](https://olssonmatt.github.io/notes/econ/micro2.html)__: theory of consumer and producer, willingness to pay, perfect/imperfect competitive markets, etc.\n",
    "\n",
    "__[macroeconomincs 2](https://olssonmatt.github.io/notes/econ/macro2.html)__: determinants of aggregate output, money, interest, effects of fiscal and monetary policies, etc.\n",
    "\n",
    "__[economics of illicit drugs](https://olssonmatt.github.io/notes/econ/econ_drugs.html)__: economic analysis of illicit drugs, application of demand, supply, and other market outcomes, etc.\n",
    "\n",
    "__[economics of sports](https://olssonmatt.github.io/notes/econ/econ_sports.html)__: economic analysis of professional sports, cost and market structures of sports, etc.\n",
    "\n",
    "__[econometrics 1](https://olssonmatt.github.io/notes/econ/econometrics1.html)__: probability, random variables, density functions, etc."
   ]
  },
  {
   "cell_type": "code",
   "execution_count": null,
   "id": "4479c301",
   "metadata": {},
   "outputs": [],
   "source": [
    "\n"
   ]
  }
 ],
 "metadata": {
  "kernelspec": {
   "display_name": "Python 3 (ipykernel)",
   "language": "python",
   "name": "python3"
  },
  "language_info": {
   "codemirror_mode": {
    "name": "ipython",
    "version": 3
   },
   "file_extension": ".py",
   "mimetype": "text/x-python",
   "name": "python",
   "nbconvert_exporter": "python",
   "pygments_lexer": "ipython3",
   "version": "3.9.7"
  }
 },
 "nbformat": 4,
 "nbformat_minor": 5
}
