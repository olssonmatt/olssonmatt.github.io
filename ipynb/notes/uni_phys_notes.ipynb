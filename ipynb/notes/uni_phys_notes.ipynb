{
 "cells": [
  {
   "cell_type": "markdown",
   "id": "9a607ac1",
   "metadata": {},
   "source": [
    "# physics notes\n",
    "*** \n",
    "### __[home](https://olssonmatt.github.io/)__ / __[portfolio](https://olssonmatt.github.io/portfolio.html)__  / __[notes](https://olssonmatt.github.io/notes.html)__  / __[contact](https://olssonmatt.github.io/contact.html)__ \n",
    "***\n",
    "\n",
    "__[mechanics introduction](https://olssonmatt.github.io/docs/university/phys/phys.1p91.mechanics_introduction.pdf)__: kinematics, Newton's laws, conservation laws, etc.\n",
    "\n",
    "__[electromagnetism/optics/modern physics introduction](https://olssonmatt.github.io/docs/university/phys/phys.1p92.electromagnetism_optics_modern_physics.pdf)__: charges, fields, circuits, electromagnetic waves, etc.\n",
    "\n",
    "__[fluids, heat, light, & sound](https://olssonmatt.github.io/docs/university/phys/phys.1p93.fluids_heat_light_sound.pdf)__: fluids, surface tension, thermodynamics, etc.\n",
    "\n",
    "__[medical physics](https://olssonmatt.github.io/docs/university/phys/phys.2p02.medical_physics.pdf)__: ionizing radiations and biological effects, strutural imaging (MRI, ultrasound, CT), nuclear medicine, etc.\n",
    "\n",
    "__[mechanics 1](https://olssonmatt.github.io/docs/university/phys/phys.2p20.mechanics1.pdf)__: mechanics of particles, conversation of linear momentum, angular momentum, and energy, etc.\n",
    "\n",
    "__[analog electronics](https://olssonmatt.github.io/docs/university/phys/phys.2p31.analog_electronics.pdf)__: basic circuit concepts, DC circuits, transient circuits, etc.\n",
    "\n",
    "__[modern physics](https://olssonmatt.github.io/docs/university/phys/phys.2p50.modern_physics.pdf)__: special relativity, quantum theory of light, wave nature of matter, etc.\n",
    "\n",
    "__[optics](https://olssonmatt.github.io/docs/university/phys/phys.2p51.classical_modern_optics.pdf)__: geometric optics, reflection/refraction, lenses, etc.\n",
    "\n",
    "__[electromagnetism 1](https://olssonmatt.github.io/docs/university/phys/phys.3p35.electromagnetism1.pdf)__: electric fields, divergence/curl of electrostatic fields, application of Laplace's and Poisson equations in electrostatics, etc.\n",
    "\n",
    "__[statistical physics](https://olssonmatt.github.io/docs/university/phys/phys.3p41.statistical_physics.pdf)__: probability distribution functions, accesible states, entropy, etc.\n",
    "\n",
    "__[quantum physics 1](https://olssonmatt.github.io/docs/university/phys/phys.3p70.quantum_mechanics1.pdf)__: wave-particle duality, Schrodinger equations, 1-D barrier problems, etc.\n",
    "\n",
    "__[mechanics 2](https://olssonmatt.github.io/docs/university/phys/phys.3p90.mechanics2.pdf)__: advanced mechanics of particles and rigid bodies, Lagrangian/Hamiltonian methods, etc.\n",
    "\n",
    "__[mathematical physics](https://olssonmatt.github.io/docs/university/phys/phys.3p95.mathematical_physics.pdf)__: calculus of variations, least action principle in physics, symmetries, and conservation laws, etc.\n",
    "\n",
    "__[solitons & nonlinear wave equations](https://olssonmatt.github.io/docs/university/phys/)__: linear and nonlinear travelling waves, nonlinear evolution equations (KdV, nonlinear Schrodinger, sine-Gordon), etc.  \n",
    "\n",
    "__[quantum physics 2](https://olssonmatt.github.io/docs/university/phys/)__: Postulates about states, observables, probabilities, Dirac's bra and ket notation, two-level systems, etc.\n",
    "\n",
    "__[nuclear physics](https://olssonmatt.github.io/docs/university/phys/)__: intrinsic properties of nuclei, nuclear binding energy, $\\alpha$/$\\beta$/$\\gamma$ radioactivities, etc."
   ]
  },
  {
   "cell_type": "code",
   "execution_count": null,
   "id": "3997a36c",
   "metadata": {},
   "outputs": [],
   "source": [
    "\n"
   ]
  }
 ],
 "metadata": {
  "kernelspec": {
   "display_name": "Python 3 (ipykernel)",
   "language": "python",
   "name": "python3"
  },
  "language_info": {
   "codemirror_mode": {
    "name": "ipython",
    "version": 3
   },
   "file_extension": ".py",
   "mimetype": "text/x-python",
   "name": "python",
   "nbconvert_exporter": "python",
   "pygments_lexer": "ipython3",
   "version": "3.9.7"
  }
 },
 "nbformat": 4,
 "nbformat_minor": 5
}
