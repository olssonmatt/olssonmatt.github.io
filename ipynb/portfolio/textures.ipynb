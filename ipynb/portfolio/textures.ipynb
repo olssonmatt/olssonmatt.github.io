{
 "cells": [
  {
   "cell_type": "markdown",
   "id": "b1130272",
   "metadata": {},
   "source": [
    "# textures\n",
    "*** \n",
    "### __[home](https://olssonmatt.github.io/)__ / __[portfolio](https://olssonmatt.github.io/portfolio.html)__  / __[notes](https://olssonmatt.github.io/notes.html)__  / __[contact](https://olssonmatt.github.io/contact.html)__ \n",
    "***\n",
    "\n",
    "An EP release by me under the name [Marty Buckets](https://martybuckets.start.page/) to understand how an independent artist would release an album.<br>\n",
    "I also plan on releasing some other music this is a quite _'dry run'_.<br>\n",
    "\n",
    " 1. Registered as a SOCAN artist to collect royalties \n",
    " 2. Producing the music\n",
    "     - Really enjoying ambient and 'score' style orchestral pieces\n",
    "     - This served as an excercise in drones, granular synthesis, and modular/analog synthesis\n",
    " 3. Mixing and mastering the music\n",
    "     - No formal training here, going by ear and resources on the internet\n",
    " 4. Registered with DistroKid to have a digital distributor of my music\n",
    " 5. Made a small campaign on social media\n",
    "     - Painted the album art\n",
    "     - Created a buffer.io account to schedule posts\n",
    "     - Created images and posts for social media \n",
    " 6. Publish and release the music\n",
    " \n",
    "Definitely learned a lot through this process.<br>\n",
    "Some points are;\n",
    " 1. Ensuring and seeing what the SOCAN organization can offer the artist\n",
    " 2. Producing\n",
    "     - Have fun with music first and foremost\n",
    "     - Recognized my creative process resembles more of experimentation rather than random inspiration\n",
    "     - Try to finish every idea, even if it isn't 'good'\n",
    "     - Do not inference how others will listen to it\n",
    "     - \n",
    " 3. Mixing and mastering\n",
    "     - lots of technical tools learned\n",
    "     - starting with high quality samples, and plug-ins only ensures the final product will be\n",
    "     - \n",
    " 4. DistroKid\n",
    "     - See all that distributors have to offer\n",
    " 5. Promotion\n",
    "     - Go balls out with digital promotion\n",
    "     - Cost free channel and post more often helps growth\n",
    "     - Get help from a graphic designer\n",
    " 6. Publishing\n",
    "     - A song is finished when whatever you do isn't getting any better\n",
    "\n",
    "Check it out at [link]().\n"
   ]
  },
  {
   "cell_type": "code",
   "execution_count": null,
   "id": "3f62076f",
   "metadata": {},
   "outputs": [],
   "source": []
  }
 ],
 "metadata": {
  "kernelspec": {
   "display_name": "Python 3 (ipykernel)",
   "language": "python",
   "name": "python3"
  },
  "language_info": {
   "codemirror_mode": {
    "name": "ipython",
    "version": 3
   },
   "file_extension": ".py",
   "mimetype": "text/x-python",
   "name": "python",
   "nbconvert_exporter": "python",
   "pygments_lexer": "ipython3",
   "version": "3.9.13"
  }
 },
 "nbformat": 4,
 "nbformat_minor": 5
}
