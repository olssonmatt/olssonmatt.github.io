{
 "cells": [
  {
   "cell_type": "markdown",
   "id": "b1130272",
   "metadata": {},
   "source": [
    "# textures\n",
    "*** \n",
    "### __[home](https://olssonmatt.github.io/)__ / __[portfolio](https://olssonmatt.github.io/portfolio.html)__  / __[notes](https://olssonmatt.github.io/notes.html)__  / __[contact](https://olssonmatt.github.io/contact.html)__ \n",
    "***\n",
    "\n",
    "An EP release by me under the name [Marty Buckets](https://martybuckets.start.page/) to understand how an independent artist would release an album.<br>\n",
    "I also plan on releasing some other music this is a quite _'dry run'_.<br>\n",
    "\n",
    "Check it out at [link]().\n"
   ]
  },
  {
   "cell_type": "code",
   "execution_count": null,
   "id": "3f62076f",
   "metadata": {},
   "outputs": [],
   "source": []
  }
 ],
 "metadata": {
  "kernelspec": {
   "display_name": "Python 3 (ipykernel)",
   "language": "python",
   "name": "python3"
  },
  "language_info": {
   "codemirror_mode": {
    "name": "ipython",
    "version": 3
   },
   "file_extension": ".py",
   "mimetype": "text/x-python",
   "name": "python",
   "nbconvert_exporter": "python",
   "pygments_lexer": "ipython3",
   "version": "3.9.7"
  }
 },
 "nbformat": 4,
 "nbformat_minor": 5
}
