{
 "cells": [
  {
   "cell_type": "markdown",
   "id": "8d6c429e",
   "metadata": {},
   "source": [
    "# war\n",
    "*** \n",
    "### __[home](https://olssonmatt.github.io/)__ / __[portfolio](https://olssonmatt.github.io/portfolio.html)__  / __[notes](https://olssonmatt.github.io/notes.html)__  / __[contact](https://olssonmatt.github.io/contact.html)__ \n",
    "***\n",
    "brainstorming ideas for a war based project\n",
    " - war & economies\n",
    " - lanchester laws\n",
    "     - N = number of soldiers\n",
    "     - A(t) = number of A, $\\alpha$ = A's effectiveness\n",
    "     - B(t) = number of b, $\\beta$ = B's effectiveness\n",
    "     - $\\frac{dA}{dt}=-\\beta N$ & $\\frac{dB}{dt}=-\\alpha N$ \n",
    " - modernizing lanchester equations\n",
    "     - hard factors\n",
    "         - economics based, troops, reserves, weapons, utilities\n",
    "         - time to turn into war ready state\n",
    "         - likeliness of attritional war\n",
    "         - likeliness of mutual destruction (nuclear war)\n",
    "     - soft factors\n",
    "         - unity, likeliness of war, chance, geography, morale, propaganda\n",
    "         - how \"trained\" an army is (effectiveness)\n",
    "         - rate of change in morale  and effectiveness (how morale and & effectiveness change in length of battle)\n",
    "     - vectors?\n",
    "         - land, air, marine war?\n",
    "         \n",
    "starting material\n",
    " - __[lanchester laws video](https://www.youtube.com/watch?v=KRZWdScezdc)__ \n",
    " - __[lanchester laws wiki](https://en.wikipedia.org/wiki/Lanchester%27s_laws)__\n",
    " - __[attrition warfare wiki](https://en.wikipedia.org/wiki/Attrition_warfare)__\n",
    " - __[maneuver warefare wiki](https://en.wikipedia.org/wiki/Maneuver_warfare)__\n",
    " - __[Lotka-Volterra (pred v prey eqns)](https://en.wikipedia.org/wiki/Lotka%E2%80%93Volterra_equations)__\n",
    " - __[Can you win a war using math?](https://www.youtube.com/watch?v=U0goQrvf-tU)__\n",
    " - __[How to solve war with math](https://www.youtube.com/watch?v=Dta6cwVx1no)__\n",
    " - __[research paper tips](https://www.butte.edu/departments/cas/tipsheets/research/research_paper.html)__\n",
    "***"
   ]
  },
  {
   "cell_type": "code",
   "execution_count": null,
   "id": "bf00594c",
   "metadata": {},
   "outputs": [],
   "source": []
  }
 ],
 "metadata": {
  "kernelspec": {
   "display_name": "Python 3 (ipykernel)",
   "language": "python",
   "name": "python3"
  },
  "language_info": {
   "codemirror_mode": {
    "name": "ipython",
    "version": 3
   },
   "file_extension": ".py",
   "mimetype": "text/x-python",
   "name": "python",
   "nbconvert_exporter": "python",
   "pygments_lexer": "ipython3",
   "version": "3.9.7"
  }
 },
 "nbformat": 4,
 "nbformat_minor": 5
}
