{
 "cells": [
  {
   "cell_type": "markdown",
   "id": "0a167f86",
   "metadata": {},
   "source": [
    "# music\n",
    "*** \n",
    "### __[home](https://olssonmatt.github.io/)__ / __[portfolio](https://olssonmatt.github.io/portfolio.html)__  / __[notes](https://olssonmatt.github.io/notes.html)__  / __[contact](https://olssonmatt.github.io/contact.html)__ \n",
    "***\n",
    "\n",
    "Some music projects I've worked on, probably under the name [Marty Buckets](https://martybuckets.start.page/).\n",
    "\n",
    "__[Textures](https://olssonmatt.github.io/portfolio/textures.html):__ Primary Artist\n",
    "\n",
    "__[Lou Fori - FEELS LIKE WE ARE ONLY GOING BACKWARDS](https://www.youtube.com/watch?v=Wwt0k0or6HE):__ Producer"
   ]
  },
  {
   "cell_type": "code",
   "execution_count": null,
   "id": "d2f4fe27",
   "metadata": {},
   "outputs": [],
   "source": []
  }
 ],
 "metadata": {
  "kernelspec": {
   "display_name": "Python 3 (ipykernel)",
   "language": "python",
   "name": "python3"
  },
  "language_info": {
   "codemirror_mode": {
    "name": "ipython",
    "version": 3
   },
   "file_extension": ".py",
   "mimetype": "text/x-python",
   "name": "python",
   "nbconvert_exporter": "python",
   "pygments_lexer": "ipython3",
   "version": "3.9.13"
  }
 },
 "nbformat": 4,
 "nbformat_minor": 5
}
