{
 "cells": [
  {
   "attachments": {},
   "cell_type": "markdown",
   "id": "1d21f440",
   "metadata": {},
   "source": [
    "# vacations!\n",
    "*** \n",
    "### __[home](https://olssonmatt.github.io/)__ / __[portfolio](https://olssonmatt.github.io/portfolio.html)__  / __[notes](https://olssonmatt.github.io/notes.html)__  / __[contact](https://olssonmatt.github.io/contact.html)__ \n",
    "***\n",
    " - detailing cool vacation landmarks/ideas\n",
    " - my thoughts towards vacations are enjoying local culture as well as tying this back to my interests like physics, math, art, wildlife, and music\n",
    " - since nowhere else really detail cool spots, i did some digging myself\n",
    " - below is a table of cool places and them plotted\n",
    " - not a complete list and continually adding to it!\n",
    "***\n",
    "***\n",
    "# vacations\n",
    "\n",
    "| Title | Type of Visit | Discipline 1 | Sub-Discipline 1 | Discipline 2 | Sub-Discipline 2 | Description | Country | City | Address | Latitude | Longitude |\n",
    "| --- | --- | --- | --- | --- | --- | --- | --- | --- | --- | --- | --- |\n",
    "| CERN - Large Hadron Collider | Tour | Physics | Particle Physics | Engineering  | Physics | CERN is the European laboratory for particle physics and one of the world’s leading scientific research laboratories. CERN's business is pure research - physicists and engineers use the world's largest and most complex scientific instruments to study Nature's tiniest building blocks, the fundamental particles, to find out how our world and the Universe work.   | Switzerland | Geneva | Esplanade des Particules 1, Meyrin | 46.2332107340801 | 6.05554939999086 |\n",
    "| Museum of Galileo | Museum | History | Physics | Physics | Astronomy | Museo Galileo is located in Florence, Italy, in Piazza dei Giudici, along the River Arno and close to the Uffizi Gallery. The museum, dedicated to astronomer and scientist Galileo Galilei, is housed in Palazzo Castellani, an 11th-century building which was then known as the Castello d'Altafronte.  | Italy | Florence | Piazza dei Giudici, 1  | 43.7677937256874 | 11.2559264781535 |\n",
    "| Archimede & Leonardo da Vinci Museum  | Museum | History | Physics | History | Math | Museum presenting interactive models of scientific inventions by Leonardo da Vinci & Archimedes.  | Italy | Syracuse | Via Vincenzo Mirabella, 31 | 37.0630545735491 | 15.2946088503083 |\n",
    "| Westminster Abbey - Sir Isaac Newtons Tomb | Tour | History | Physics | Physics | Classical | Westminster Abbey, formally titled the Collegiate Church of Saint Peter at Westminster, is an Anglican church in the City of Westminster, London, England. Since 1066, it has been the location of the coronations of 40 English and British monarchs, and a burial site for 18 English, Scottish, and British monarchs. Newton died unmarried at Kensington on 20th March 1727 and was buried in Westminster Abbey on 28th March.  | England | London | Dean's Yard  | 51.4993883922153 | -0.127291836493987 |\n",
    "| Woolsthorpe Manor House | Landmark | History | Physics | Physics | Classical | Woolsthorpe Manor in Woolsthorpe-by-Colsterworth, near Grantham, Lincolnshire, England, is the birthplace and was the family home of Sir Isaac Newton. He was born there on 4 January 1643.  | England | Woolsthorpe-by-Colsterworth |  | 52.8090721811686 | -0.630356847461657 |\n",
    "| Space Centre Houston | Museum | History | Physics | Physics | Astronomy | Space Centre Houston is a science museum that serves as the official visitor center of NASA Johnson Space Center in Houston.  | United States | Houston | 1601 E NASA Parkway  | 29.5519672852638 | -95.0983511617007 |\n",
    "| Kennedy Space Centre | Museum | History | Physics | Physics | Astronomy | The Kennedy Space Center Visitor Complex is the visitor center at NASA's Kennedy Space Center on Merritt Island, Florida. It features exhibits and displays, historic spacecraft and memorabilia, shows, two IMAX theaters, and a range of bus tours of the spaceport. | United States | Merritt Island | Space Commerce Way  | 28.5235200229642 | -80.6813122030502 |\n",
    "| Nobel Prize Museum | Museum | History | Physics | History | Science | The Nobel Prize Museum is located in the former Stock Exchange Building on the north side of the square Stortorget in Gamla Stan, the old town in central Stockholm, Sweden.  | Sweden | Stockholm | Stortorget 2  | 59.3253062223414 | 18.0706313779964 |\n",
    "| SNOLABS | Online Tour | Physics | Particle Physics | Engineering  | Physics | SNOLAB is a world-class science facility located deep underground in the operational Vale Creighton nickel mine, near Sudbury, Ontario in Canada.  | Canada | Sudbury | 1039 Regional Road 24 | 46.4722169363948 | -81.1865087841249 |\n",
    "| TRIUMF  | Tour | Physics | Particle Physics | Engineering  | Physics | TRIUMF is Canada’s particle accelerator centre. We are home to the world's largest cyclotron of its kind, as well as a suite of additional particle accelerators and over 1 kilometre of beamlines that spans our 13.5-acre site.  | Canada | Vancouver | 4004 Wesbrook Mall  | 49.2478492880665 | -123.230955940626 |\n",
    "| Bletchley Park | Museum | History | War | Math | Cryptography | Bletchley Park is an English country house and estate in Bletchley, Milton Keynes that became the principal centre of Allied code-breaking during the Second World War.  | England | Milton Keynes | The Mansion, Bletchley Park, Sherwood Dr  | 51.9981088860336 | -0.740686299999846 |\n",
    "| Kepler Museum | Museum | History | Physics | Physics | Astronomy | The Kepler Museum is a museum of astronomy in Prague, Czech Republic, named for the German astronomer Johannes Kepler.  | Czechia | Stare Mesto | 4, Karlova 188  | 50.0860661168019 | 14.4148611309823 |\n",
    "| Einstein House | Museum | History | Physics | Physics | Relativity | The Einsteinhaus is a museum and a former residence of Albert Einstein. It is located on Kramgasse No. 49 in Bern, Switzerland.  | Switzerland | Bern | Kramgasse 49  | 46.9480670711604 | 7.4499585844319 |\n",
    "| Zytglogge Bern | Landmark | History | Physics | Physics | Relativity | The Zytglogge is a landmark medieval tower in Bern, Switzerland. The tower inspired a young patent clerk named Albert Einstein, and changed the way we think about the universe. | Switzerland | Bern | Bim Zytglogge 1  | 46.9483590695178 | 7.44771856889184 |\n",
    "| Nikola Tesla Museum  | Museum | History | Physics | Physics | Electronics | The Nikola Tesla Museum is a science museum located in Belgrade, Serbia. It is dedicated to honoring and displaying the life and work of Nikola Tesla as well as the final resting place for Tesla.  | Serbia | Beograd | Krunska 51  | 44.8053038414583 | 20.4706040689572 |\n",
    "| Fathom Five National Marine Park | National Park | Physics | Astronomy |  |  | Fathom Five National Marine Park is a National Marine Conservation Area in the Georgian Bay part of Lake Huron, Ontario, Canada, that seeks to protect and display shipwrecks and lighthouses, and conserve freshwater ecosystems. Also ideal for stargazing, other popular attractions include dive sites for 22 shipwrecks in Lake Huron, intriguing rock formations and backcountry camping and hiking on Flowerpot Island. | Canada | Tobermory | 121 Chi sin tib dek Rd  | 45.257853312273 | -81.6562579420524 |\n"
   ]
  },
  {
   "cell_type": "code",
   "execution_count": null,
   "id": "e5ae2bea",
   "metadata": {},
   "outputs": [],
   "source": []
  }
 ],
 "metadata": {
  "kernelspec": {
   "display_name": "Python 3 (ipykernel)",
   "language": "python",
   "name": "python3"
  },
  "language_info": {
   "codemirror_mode": {
    "name": "ipython",
    "version": 3
   },
   "file_extension": ".py",
   "mimetype": "text/x-python",
   "name": "python",
   "nbconvert_exporter": "python",
   "pygments_lexer": "ipython3",
   "version": "3.9.7"
  }
 },
 "nbformat": 4,
 "nbformat_minor": 5
}
