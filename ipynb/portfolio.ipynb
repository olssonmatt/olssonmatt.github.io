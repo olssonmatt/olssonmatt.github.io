{
 "cells": [
  {
   "cell_type": "markdown",
   "id": "29648811",
   "metadata": {},
   "source": [
    "# portfolio\n",
    "*** \n",
    "### __[home](https://olssonmatt.github.io/)__ / __[portfolio](https://olssonmatt.github.io/portfolio.html)__  / __[notes](https://olssonmatt.github.io/notes.html)__  / __[contact](https://olssonmatt.github.io/contact.html)__ \n",
    "***\n",
    "\n",
    "__[Tinkerbell Maps](https://olssonmatt.github.io/portfolio/tinkerbell.html)__ (April 2023) \n",
    "\n",
    "__[Music](https://olssonmatt.github.io/portfolio/music.html)__\n",
    "\n",
    "__[Vacations!](https://olssonmatt.github.io/portfolio/vacations.html)__ \n",
    "\n",
    "Other projects: Using Monte Carlo Simulations to Mimic Cosmic Radiation Damage (2021), Investigating the Fibonacci Sequence: Pisano Periods (2021), Determining the Authenticity of an Unknown Painting (2020), Literary Review of a Paper on Solitons (2020), Battle Modelling (2019)"
   ]
  },
  {
   "cell_type": "code",
   "execution_count": null,
   "id": "6fa9daf3",
   "metadata": {},
   "outputs": [],
   "source": []
  }
 ],
 "metadata": {
  "kernelspec": {
   "display_name": "Python 3 (ipykernel)",
   "language": "python",
   "name": "python3"
  },
  "language_info": {
   "codemirror_mode": {
    "name": "ipython",
    "version": 3
   },
   "file_extension": ".py",
   "mimetype": "text/x-python",
   "name": "python",
   "nbconvert_exporter": "python",
   "pygments_lexer": "ipython3",
   "version": "3.12.4"
  }
 },
 "nbformat": 4,
 "nbformat_minor": 5
}
