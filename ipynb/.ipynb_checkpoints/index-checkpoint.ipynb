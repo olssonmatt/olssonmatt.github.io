{
 "cells": [
  {
   "cell_type": "markdown",
   "id": "7f5f7b4a",
   "metadata": {},
   "source": [
    "# matthew olsson's website\n",
    "*** \n",
    "### __[home](https://olssonmatt.github.io/)__ / __[portfolio](https://olssonmatt.github.io/portfolio.html)__  / __[notes](https://olssonmatt.github.io/notes.html)__  / __[contact](https://olssonmatt.github.io/contact.html)__ \n",
    "***\n",
    "Currently a late stage credit risk analyst/strategist at Canadian Tire Bank. Looking to work on physics, and maths problems as well as getting into machine learning.\n",
    "\n",
    "Visit my portfolio to see some projects I have worked on or am currently working on.\n",
    "\n",
    "[resume](https://olssonmatt.github.io/docs/olssonmatt_resume.pdf)\n",
    "\n",
    "[cv](https://olssonmatt.github.io/docs/olssonmatt_cv.pdf)"
   ]
  },
  {
   "cell_type": "code",
   "execution_count": null,
   "id": "c53bc6ca",
   "metadata": {},
   "outputs": [],
   "source": []
  }
 ],
 "metadata": {
  "kernelspec": {
   "display_name": "Python 3 (ipykernel)",
   "language": "python",
   "name": "python3"
  },
  "language_info": {
   "codemirror_mode": {
    "name": "ipython",
    "version": 3
   },
   "file_extension": ".py",
   "mimetype": "text/x-python",
   "name": "python",
   "nbconvert_exporter": "python",
   "pygments_lexer": "ipython3",
   "version": "3.9.7"
  }
 },
 "nbformat": 4,
 "nbformat_minor": 5
}
