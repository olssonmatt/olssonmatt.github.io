{
 "cells": [
  {
   "cell_type": "markdown",
   "id": "4f6f242e",
   "metadata": {},
   "source": [
    "# math notes\n",
    "*** \n",
    "### __[home](https://olssonmatt.github.io/)__ / __[portfolio](https://olssonmatt.github.io/portfolio.html)__  / __[notes](https://olssonmatt.github.io/notes.html)__  / __[contact](https://olssonmatt.github.io/contact.html)__ \n",
    "***\n",
    "\n",
    "__[calculus 1](https://olssonmatt.github.io/notes/math/calc1.html)__: differential calculus, integrals, limits, etc.\n",
    "\n",
    "__[calculus 2](https://olssonmatt.github.io/notes/math/calc2.html)__: further technics of integration, area between curves, convergence tests, etc.\n",
    "\n",
    "__[linear algebra 1](https://olssonmatt.github.io/notes/math/lin_alg1.html)__: linear systems, matrix algebra, determinants, complex numbers, etc.\n",
    "\n",
    "__[computational math 1](https://olssonmatt.github.io/notes/math/comp_math1.html)__: algebra, differential equations, dynamincal systems, etc. using computers\n",
    "\n",
    "__[computational math 2](https://olssonmatt.github.io/notes/math/comp_math2.html)__: theory and applications of mathematical modelling and simulation\n",
    "\n",
    "__[statistics 1](https://olssonmatt.github.io/notes/math/stats1.html)__: descriptive statistics, probability of events, probability distributions, etc.\n",
    "\n",
    "__[multivariable calculus](https://olssonmatt.github.io/notes/math/multivariable_calc.html)__: functions of 2 and 3 variables, partial derivatives, gradients, etc.\n",
    "\n",
    "__[ordinary differential equations](https://olssonmatt.github.io/notes/math/ode.html)__: linear and nonlinear differential equations, uniqueness theory, analytical and numerical solutions, etc.\n",
    "\n",
    "__[linear algebra 2](https://olssonmatt.github.io/notes/math/lin_alg2.html)__: Finite dimensional real vector spaces and inner product spaces, matrix and linear transformations, eigenvectors and values, etc.\n",
    "\n",
    "__[probability 1](https://olssonmatt.github.io/notes/math/probability1.html)__: probability, events, algebra of sets,  Binomial/Poisson/hypergeometric distributions, etc.\n",
    "\n",
    "__[probability 2](https://olssonmatt.github.io/notes/math/probability2.html)__: random sampling, descriptive statistics, central limit theorem, point estimation, etc.\n",
    "\n",
    "__[complex analysis](https://olssonmatt.github.io/notes/math/complex.html)__: algebra and geometry of complex numbers, complex functions and their derivatives, analytic functions, etc.\n",
    "\n",
    "__[vector calculus and differential geometry](https://olssonmatt.github.io/notes/math/vectors.html)__: vector fields/algebra/calculus, gradient/curl/divergence, and polar/cylindrical/spherical coordinates, etc.\n",
    "\n",
    "__[advanced differential equations](https://olssonmatt.github.io/notes/math/ades.html)__: linear second-order equations and special functions, Sturm-Liouville theory and series expansions, etc.\n",
    "\n",
    "__[partial differential equations](https://olssonmatt.github.io/notes/math/pdes.html)__: linear and nonlinear partial differential equations, analytical solution methods, variational principles, etc."
   ]
  },
  {
   "cell_type": "code",
   "execution_count": null,
   "id": "4479c301",
   "metadata": {},
   "outputs": [],
   "source": [
    "\n"
   ]
  }
 ],
 "metadata": {
  "kernelspec": {
   "display_name": "Python 3 (ipykernel)",
   "language": "python",
   "name": "python3"
  },
  "language_info": {
   "codemirror_mode": {
    "name": "ipython",
    "version": 3
   },
   "file_extension": ".py",
   "mimetype": "text/x-python",
   "name": "python",
   "nbconvert_exporter": "python",
   "pygments_lexer": "ipython3",
   "version": "3.9.7"
  }
 },
 "nbformat": 4,
 "nbformat_minor": 5
}
