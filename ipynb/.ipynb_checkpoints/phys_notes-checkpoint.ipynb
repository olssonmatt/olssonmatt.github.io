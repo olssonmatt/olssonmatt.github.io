{
 "cells": [
  {
   "cell_type": "markdown",
   "id": "9a607ac1",
   "metadata": {},
   "source": [
    "# physics notes\n",
    "*** \n",
    "### __[home](https://olssonmatt.github.io/)__ / __[portfolio](https://olssonmatt.github.io/portfolio.html)__  / __[notes](https://olssonmatt.github.io/notes.html)__  / __[contact](https://olssonmatt.github.io/contact.html)__ \n",
    "***\n",
    "\n",
    "__[intro physics 1](https://olssonmatt.github.io/notes/phys/phys1.html)__: kinematics, Newton's laws, conservation laws, etc.\n",
    "\n",
    "__[intro physics 2](https://olssonmatt.github.io/notes/phys/phys2.html)__: charges, fields, circuits, electromagnetic waves, etc.\n",
    "\n",
    "__[intro physics 3](https://olssonmatt.github.io/notes/phys/phys3.html)__: fluids, surface tension, thermodynamics, etc.\n",
    "\n",
    "__[medical physics](https://olssonmatt.github.io/notes/phys/med_phys.html)__: ionizing radiations and biological effects, strutural imaging (MRI, ultrasound, CT), nuclear medicine, etc.\n",
    "\n",
    "__[mechanics 1](https://olssonmatt.github.io/notes/phys/mechanics1.html)__: mechanics of particles, conversation of linear momentum, angular momentum, and energy, etc.\n",
    "\n",
    "__[electronics 1](https://olssonmatt.github.io/notes/phys/electronics1.html)__: basic circuit concepts, DC circuits, transient circuits, etc.\n",
    "\n",
    "__[modern physics](https://olssonmatt.github.io/notes/phys/modern_phys.html)__: special relativity, quantum theory of light, wave nature of matter, etc.\n",
    "\n",
    "__[optics](https://olssonmatt.github.io/notes/phys/optics.html)__: geometric optics, reflection/refraction, lenses, etc.\n",
    "\n",
    "__[electromagnetism 1](https://olssonmatt.github.io/notes/phys/emag1.html)__: electric fields, divergence/curl of electrostatic fields, application of Laplace's and Poisson equations in electrostatics, etc.\n",
    "\n",
    "__[statistical physics](https://olssonmatt.github.io/notes/phys/stats_phys.html)__: probability distribution functions, accesible states, entropy, etc.\n",
    "\n",
    "__[quantum physics 1](https://olssonmatt.github.io/notes/phys/quantum1.html)__: wave-particle duality, Schrodinger equations, 1-D barrier problems, etc.\n",
    "\n",
    "__[mechanics 2](https://olssonmatt.github.io/notes/phys/mechanics2.html)__: advanced mechanics of particles and rigid bodies, Lagrangian/Hamiltonian methods, etc.\n",
    "\n",
    "__[mathematical physics](https://olssonmatt.github.io/notes/phys/math_phys.html)__: calculus of variations, least action principle in physics, symmetries, and conservation laws, etc.\n",
    "\n",
    "__[solitons & nonlinear wave equations](https://olssonmatt.github.io/notes/phys/solitons.html)__: linear and nonlinear travelling waves, nonlinear evolution equations (KdV, nonlinear Schrodinger, sine-Gordon), etc.  \n",
    "\n",
    "__[quantum physics 2](https://olssonmatt.github.io/notes/phys/quantum2.html)__: Postulates about states, observables, probabilities, Dirac's bra and ket notation, two-level systems, etc.\n",
    "\n",
    "__[nuclear physics](https://olssonmatt.github.io/notes/phys/nuclear.html)__: intrinsic properties of nuclei, nuclear binding energy, $\\alpha$/$\\beta$/$\\gamma$ radioactivities, etc."
   ]
  },
  {
   "cell_type": "code",
   "execution_count": null,
   "id": "3997a36c",
   "metadata": {},
   "outputs": [],
   "source": [
    "\n"
   ]
  }
 ],
 "metadata": {
  "kernelspec": {
   "display_name": "Python 3 (ipykernel)",
   "language": "python",
   "name": "python3"
  },
  "language_info": {
   "codemirror_mode": {
    "name": "ipython",
    "version": 3
   },
   "file_extension": ".py",
   "mimetype": "text/x-python",
   "name": "python",
   "nbconvert_exporter": "python",
   "pygments_lexer": "ipython3",
   "version": "3.9.7"
  }
 },
 "nbformat": 4,
 "nbformat_minor": 5
}
