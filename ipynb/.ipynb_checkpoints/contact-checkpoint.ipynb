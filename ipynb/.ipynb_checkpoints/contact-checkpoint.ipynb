{
 "cells": [
  {
   "cell_type": "markdown",
   "id": "4e08881c",
   "metadata": {},
   "source": [
    "# contact\n",
    "*** \n",
    "### __[home](https://olssonmatt.github.io/)__ / __[portfolio](https://olssonmatt.github.io/portfolio.html)__  / __[notes](https://olssonmatt.github.io/notes.html)__  / __[contact](https://olssonmatt.github.io/contact.html)__ \n",
    "***\n",
    "Feel free to connect with me on __[linkedin](https://www.linkedin.com/in/olssonmatt/)__ or __[email](mailto:mattolsson9@gmail.com)__, for any inquiries, questions, or interests.\n",
    "\n",
    "[Resume](https://olssonmatt.github.io/docs/matthew_olsson_resume.pdf)"
   ]
  },
  {
   "cell_type": "code",
   "execution_count": null,
   "id": "df0c351e",
   "metadata": {},
   "outputs": [],
   "source": []
  }
 ],
 "metadata": {
  "kernelspec": {
   "display_name": "Python 3 (ipykernel)",
   "language": "python",
   "name": "python3"
  },
  "language_info": {
   "codemirror_mode": {
    "name": "ipython",
    "version": 3
   },
   "file_extension": ".py",
   "mimetype": "text/x-python",
   "name": "python",
   "nbconvert_exporter": "python",
   "pygments_lexer": "ipython3",
   "version": "3.9.13"
  }
 },
 "nbformat": 4,
 "nbformat_minor": 5
}
